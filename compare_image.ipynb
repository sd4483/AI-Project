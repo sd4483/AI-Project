{
 "cells": [
  {
   "cell_type": "code",
   "execution_count": 1,
   "metadata": {},
   "outputs": [],
   "source": [
    "import cv2 \n",
    "import numpy as np\n",
    "import matplotlib.pyplot as plt\n"
   ]
  },
  {
   "cell_type": "code",
   "execution_count": 5,
   "metadata": {},
   "outputs": [
    {
     "name": "stdout",
     "output_type": "stream",
     "text": [
      "1\n",
      "255\n",
      "The shape of img_single_channel is: (194, 259)\n"
     ]
    }
   ],
   "source": [
    "# load an image\n",
    "bgr_img = cv2.imread ('img1.JPG')\n",
    "img2 = cv2.imread('pic1.jpeg')\n",
    "\n",
    "b,g,r = cv2.split(bgr_img)       # get b,g,r\n",
    "rgb_img = cv2.merge([r,g,b])     # switch it to rgb\n",
    "\n",
    "value = np.array(r)\n",
    "print(value.min())\n",
    "#print('index', r)\n",
    "print(value.max())\n",
    "b,g,r = cv2.split(img2)       # get b,g,r\n",
    "img2 = cv2.merge([r,g,b])     # switch it to rgb\n",
    "\n",
    "\n",
    "#print(r[0,0])\n",
    "\n",
    "#printing the r,g,b\n",
    "\n",
    "\n",
    "# load an image as a single channel grayscale \n",
    "img_single_channel = cv2.imread('pic1.jpeg', 0)\n",
    "img_single_channel2 = cv2.imread('pic2.jpeg', 0)\n",
    "\n",
    "# print some details about the images \n",
    "#print('The shape of img without second arg is: {}'.format(img.color))\n",
    "#print('The shape of img without second arg is: {}'.format(img2.shape))\n",
    "#print('The shape of img_single_channel is: {}'.format(img_single_channel.shape))\n",
    "print('The shape of img_single_channel is: {}'.format(img_single_channel2.shape))\n",
    "\n"
   ]
  },
  {
   "cell_type": "code",
   "execution_count": null,
   "metadata": {},
   "outputs": [],
   "source": [
    "# display the image with OpenCV imshow()\n",
    "cv2.imshow('OpenCV imshow()', img2)\n",
    "\n",
    "\n",
    "# The OpenCV waitKey() function is a required keyboard binding \n",
    "# function after imwshow()\n",
    "cv2.waitKey(0)\n",
    "\n",
    "# destroy all windows command\n",
    "cv2.destroyAllWindows()"
   ]
  },
  {
   "cell_type": "code",
   "execution_count": null,
   "metadata": {},
   "outputs": [],
   "source": []
  },
  {
   "cell_type": "code",
   "execution_count": null,
   "metadata": {},
   "outputs": [],
   "source": []
  }
 ],
 "metadata": {
  "kernelspec": {
   "display_name": "Python 3",
   "language": "python",
   "name": "python3"
  },
  "language_info": {
   "codemirror_mode": {
    "name": "ipython",
    "version": 3
   },
   "file_extension": ".py",
   "mimetype": "text/x-python",
   "name": "python",
   "nbconvert_exporter": "python",
   "pygments_lexer": "ipython3",
   "version": "3.6.4"
  }
 },
 "nbformat": 4,
 "nbformat_minor": 2
}
