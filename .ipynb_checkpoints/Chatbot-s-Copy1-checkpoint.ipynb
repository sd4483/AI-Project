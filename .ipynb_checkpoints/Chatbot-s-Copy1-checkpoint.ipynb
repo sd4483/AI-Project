{
 "cells": [
  {
   "cell_type": "code",
   "execution_count": 3,
   "metadata": {},
   "outputs": [
    {
     "name": "stdout",
     "output_type": "stream",
     "text": [
      "Requirement already up-to-date: pip in /anaconda3/lib/python3.6/site-packages (10.0.1)\n",
      "Requirement already satisfied: textblob in /anaconda3/lib/python3.6/site-packages (0.15.1)\n",
      "Requirement already satisfied: nltk>=3.1 in /anaconda3/lib/python3.6/site-packages (from textblob) (3.2.5)\n",
      "Requirement already satisfied: six in /anaconda3/lib/python3.6/site-packages (from nltk>=3.1->textblob) (1.11.0)\n"
     ]
    }
   ],
   "source": [
    "!pip install --upgrade pip\n",
    "!pip install textblob\n",
    "import nltk\n",
    "from nltk.tokenize import word_tokenize\n",
    "import random"
   ]
  },
  {
   "cell_type": "code",
   "execution_count": 2,
   "metadata": {},
   "outputs": [],
   "source": [
    "# Simple Greetings chatbot \n",
    "SYMPTOMS_KEYWORDS = (\"fever\", \"headache\", \"joint pain\", \"muscle pain\", \"skin rashes\", \"Nausea\", \"Vomiting\",\"Bleeding of Nose\",\"gum bleeding\")\n",
    "\n",
    "SYMPTOMS_RESPONSES = [\"the patient is likely to suffer from Dengue virus.\"]\n",
    "\n",
    "def disease(sentence):\n",
    "    \"\"\"If any of the words in the user's input was a greeting, return a greeting response\"\"\"\n",
    "    sentence = word_tokenize(sentence)\n",
    "    for word in sentence:\n",
    "        if word.lower() in SYMPTOMS_KEYWORDS:\n",
    "            return random.choice(SYMPTOMS_RESPONSES)\n",
    "        else:\n",
    "            return 'no comprehendo'"
   ]
  },
  {
   "cell_type": "code",
   "execution_count": 19,
   "metadata": {},
   "outputs": [
    {
     "name": "stdout",
     "output_type": "stream",
     "text": [
      "['hi', ' hello', 'vankkam']\n",
      "[2, 0]\n",
      "2\n",
      "0\n",
      "hi hi\n"
     ]
    }
   ],
   "source": [
<<<<<<< HEAD
    "GREETING_KEYWORDS = (\"hello\", \"hi\", \"wassup\", \"nihao\")\n",
    "GREETING_KEYWORDS1 = (\"vanakkam\", \"vandanam\", \"namaste\", \"idiot\")\n",
    "\n",
    "\n",
    "GREETING_RESPONSES = [\"hi hi\", \"hey\", \"*nods*\", \"good day\",\"oh,its you\"]\n",
=======
    "_KEYWORDS = (\"fever\", \"headache\", \"joint\", \"pain\", \"muscle\", \"pain\", \"skin\", \"rashes\", \"Nausea\", \"Vomiting\",\"Bleeding of Nose\",\"gum bleeding\")\n",
    "\n",
    "SYMPTOMS_RESPONSES = [\"the patient is likely to suffer from Dengue virus.\"]\n",
>>>>>>> b598577b96d270cd192180ee54f3de14ab9f8d7e
    "\n",
    "\n",
    "\n",
    "def greeting(sentence):\n",
    "    \"\"\"If any of the words in the user's input was a greeting, return a greeting response\"\"\"\n",
    "    sentence = word_tokenize(sentence)\n",
    "    for word in sentence:\n",
    "        if word.lower() in GREETING_KEYWORDS:\n",
    "            return random.choice(GREETING_RESPONSES)\n",
    "        else:\n",
    "            return 'no comprehendo'\n",
    "        \n",
    "question = input('say something : ')\n",
    "keywords = question.split(',')\n",
    "\n",
    "print (keywords)\n",
    "counter = 0\n",
    "counter1 = 0\n",
    "\n",
    "\n",
    "match = []\n",
    "for elements in keywords:\n",
    "    if elements.lstrip() in GREETING_KEYWORDS:\n",
    "        counter +=1\n",
    "match.append(counter)\n",
    "    \n",
    "for elements in keywords:\n",
    "    if elements.lstrip() in GREETING_KEYWORDS1:\n",
    "        counter1 +=1\n",
    "match.append(counter1)\n",
    "\n",
<<<<<<< HEAD
    "for elements in keywords:\n",
    "    if elements.lstrip() in GREETING_KEYWORDS1:\n",
    "        counter1 +=1\n",
    "match.append(counter2)\n",
    "\n",
    "for elements in keywords:\n",
    "    if elements.lstrip() in GREETING_KEYWORDS1:\n",
    "        counter1 +=1\n",
    "match.append(counter3)\n",
    "\n",
    "for elements in keywords:\n",
    "    if elements.lstrip() in GREETING_KEYWORDS1:\n",
    "        counter1 +=1\n",
    "match.append(counter4)\n",
    "\n",
=======
>>>>>>> b598577b96d270cd192180ee54f3de14ab9f8d7e
    "print(match)\n",
    "print (max(match))\n",
    "print(match.index(max(match)))\n",
    "print(GREETING_RESPONSES[match.index(max(match))])"
   ]
  },
  {
   "cell_type": "code",
   "execution_count": null,
   "metadata": {},
   "outputs": [],
   "source": []
  }
 ],
 "metadata": {
  "kernelspec": {
   "display_name": "Python 3",
   "language": "python",
   "name": "python3"
  },
  "language_info": {
   "codemirror_mode": {
    "name": "ipython",
    "version": 3
   },
   "file_extension": ".py",
   "mimetype": "text/x-python",
   "name": "python",
   "nbconvert_exporter": "python",
   "pygments_lexer": "ipython3",
   "version": "3.6.4"
  }
 },
 "nbformat": 4,
 "nbformat_minor": 2
}
