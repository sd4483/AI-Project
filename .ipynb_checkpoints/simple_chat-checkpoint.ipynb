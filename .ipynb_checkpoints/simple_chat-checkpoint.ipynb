{
 "cells": [
  {
   "cell_type": "code",
   "execution_count": 1,
   "metadata": {},
   "outputs": [],
   "source": [
    "import nltk\n",
    "from nltk.tokenize import word_tokenize\n",
    "import random\n",
    "from textblob import TextBlob"
   ]
  },
  {
   "cell_type": "code",
   "execution_count": 2,
   "metadata": {},
   "outputs": [],
   "source": [
    "GREETING_KEYWORDS = (\"hello\", \"hi\", \"greetings\", \"hey\", \"whazzup\")\n",
    "\n",
    "GREETING_RESPONSES = [\"hi hi\", \"hey\", \"*nods*\", \"good day\", \"oh, its you\", \"you talking to me ?\"]\n",
    "\n",
    "SYMPTOM1_KEYWORDS = (\"fever\", \"headache\", \"joint\", \"pain\", \"muscle\", \"pain\", \"skin\", \"rashes\", \"Nausea\", \"Vomiting\",\"Bleeding\", \"of\", \"Nose\",\"gum\", \"bleeding\")\n",
    "SYMPTOM2_KEYWORDS = (\"chills\", \"headache\", \"nausea\", \"vomiting\", \"diarrhea\", \"muscle\", \"pain\", \"convulsions\", \"bloody\", \"stools\", \"anemia\", \"fever\", \"abdominal\", \"pain\")\n",
    "SYMPTOM3_KEYWORDS = (\"fever\", \"rash\", \"joint\", \"pain\", \"conjuctivitis\", \"muscle\", \"pain\", \"eye\", \"pain\", \"vomiting\", \"red\", \"eyes\")\n",
    "SYMPTOM4_KEYWORDS = (\"sore\", \"throat\", \"runny\", \"nose\", \"cough\", \"fever\", \"body\", \"ache\", \"poor\", \"appetite\", \"abdominal\", \"pain\", \"diarrhea\", \"body\", \"ache\", \"vomiting\")\n",
    "SYMPTOM5_KEYWORDS = (\"poor\", \"appetite\", \"headache\", \"body\", \"ache\", \"abdominal\", \"pain\", \"lethargy\", \"diarrhea\")\n",
    "SYMPTOMS_RESPONSES = [\"the patient is likely to suffer from Dengue virus\", \"the patient is likely suffering from malaria\", \"this patient is likely suffering from zika\", \"this patient is liekly suffering from viral fever\", \"this patient is likely suffering from typhoid\"]"
   ]
  },
  {
   "cell_type": "code",
   "execution_count": 3,
   "metadata": {},
   "outputs": [],
   "source": [
    "def greeting(sentence):\n",
    "    \"\"\"If any of the words in the user's input was a greeting, return a greeting response\"\"\"\n",
    "    sentence = word_tokenize(sentence)\n",
    "    for word in sentence:\n",
    "        if word.lower() in GREETING_KEYWORDS:\n",
    "            return random.choice(GREETING_RESPONSES)\n",
    "        else:\n",
    "            return None"
   ]
  },
  {
   "cell_type": "code",
   "execution_count": 4,
   "metadata": {},
   "outputs": [],
   "source": [
    "def preprocess(text):\n",
    "    text = text.correct()\n",
    "    # text = text.lower()\n",
    "    clean_text = ' '.join(text.words)\n",
    "    clean_text = clean_text.replace('charcot', 'chatbot')\n",
    "    return clean_text"
   ]
  },
  {
   "cell_type": "code",
   "execution_count": 5,
   "metadata": {},
   "outputs": [],
   "source": [
    "def find_noun(text_tags):\n",
    "    noun = None\n",
    "    for word, pos in text_tags:\n",
    "        if pos == 'NN':  # NN is short for noun\n",
    "            noun = word\n",
    "            break\n",
    "    return noun    "
   ]
  },
  {
   "cell_type": "code",
   "execution_count": 6,
   "metadata": {},
   "outputs": [],
   "source": [
    "def find_verb(text_tags):\n",
    "    verb = None\n",
    "    partofspeech = None\n",
    "    for word, pos in text_tags:\n",
    "        if pos.startswith('VB'):  # any form of verb\n",
    "            verb = word\n",
    "            partofspeech = pos\n",
    "            break\n",
    "\n",
    "    return verb, partofspeech"
   ]
  },
  {
   "cell_type": "code",
   "execution_count": 7,
   "metadata": {},
   "outputs": [],
   "source": [
    "def find_adjective(text_tags):\n",
    "    adjective = None\n",
    "    for word, pos in text_tags:\n",
    "        if pos == 'JJ':  # This is an adjective\n",
    "            adjective = word\n",
    "            break\n",
    "\n",
    "    return adjective"
   ]
  },
  {
   "cell_type": "code",
   "execution_count": 8,
   "metadata": {},
   "outputs": [],
   "source": [
    "def find_response_pronoun(text_tags):\n",
    "    response_pronoun = None\n",
    "    for word, pos in text_tags:\n",
    "        # Disambiguate pronouns\n",
    "        if pos == 'PRP' and (word == 'you' or word == 'You'):\n",
    "            response_pronoun = 'I'\n",
    "        elif pos == 'PRP' and word == 'I':\n",
    "            # If the user mentioned themselves, then they will definitely be the pronoun\n",
    "            response_pronoun = 'You'\n",
    "        elif pos == 'PRP':\n",
    "            response_pronoun = word\n",
    "\n",
    "    return response_pronoun"
   ]
  },
  {
   "cell_type": "code",
   "execution_count": 9,
   "metadata": {},
   "outputs": [],
   "source": [
    "SELF_VERBS_WITH_NOUN_CAPS_PLURAL = [\n",
    "    \"Turn left and then right for the {noun} , the pharmacy is right there. \",\n",
    "    \"I really consider myself an expert on {noun}\",\n",
    "]\n",
    "\n",
    "SELF_VERBS_WITH_NOUN_LOWER = [\n",
    "    \"What is the purpose of {noun}\",\n",
    "    \"What can I do for {noun}\",\n",
    "]\n",
    "\n",
    "SELF_VERBS_WITH_ADJECTIVE = [\n",
    "    \"I can help you with {adjective} \",\n",
    "    \"I can book a appointment for {adjective}\",\n",
    "]"
   ]
  },
  {
   "cell_type": "code",
   "execution_count": 10,
   "metadata": {},
   "outputs": [],
   "source": [
    "def starts_with_vowel(word):\n",
    "    \"\"\"Check for pronoun compability -- 'a' vs. 'an'\"\"\"\n",
    "    return True if word[0] in 'aeiou' else False"
   ]
  },
  {
   "cell_type": "code",
   "execution_count": 11,
   "metadata": {},
   "outputs": [],
   "source": [
    "NONE_RESPONSES = [\n",
    "    \"I have no idea what you've just said\",\n",
    "    \"huh ? can you repeat that\",\n",
    "    \"please say that again\",\n",
    "    \"can you rephrase that ?\",\n",
    "    \"I don't understand\",\n",
    "    \"Whats the pupose of your visit to the hospital?\",\n",
    "]\n",
    "\n",
    "COMMENTS_ABOUT_SELF = [\n",
    "    \"You may be right\",\n",
    "    \"Do you really think so ?\",\n",
    "    \"How can I help you?\",\n",
    "    \"We find ways to do it\",\n",
    "    \"I take that as a compliment\"\n",
    "]"
   ]
  },
  {
   "cell_type": "code",
   "execution_count": 15,
   "metadata": {},
   "outputs": [],
   "source": [
    "def respond(ques):\n",
    "    \n",
    "    resp = greeting(ques)\n",
    "    \n",
    "    # return greeting response if ques is greeting\n",
    "    if resp:\n",
    "        return resp\n",
    "    \n",
    "    # if not greeting, then determine a suitable response\n",
    "    if not resp:\n",
    "        # preprocess question\n",
    "        text = TextBlob(ques)\n",
    "        clean_text = preprocess(text)\n",
    "        \n",
    "        # find parts of speech\n",
    "        text = TextBlob(clean_text)\n",
    "        text_tags = text.tags\n",
    "        \n",
    "        noun = find_noun(text_tags)\n",
    "        verb = find_verb(text_tags)\n",
    "        adjective = find_adjective(text_tags)\n",
    "        response_pronoun = find_response_pronoun(text_tags)\n",
    "        \n",
    "        # comments about bot\n",
    "        if response_pronoun == 'I' and (noun or adjective):\n",
    "            if noun:\n",
    "                if random.choice((True, False)):\n",
    "                    resp = random.choice(SELF_VERBS_WITH_NOUN_CAPS_PLURAL).format(**{'noun': noun.pluralize().capitalize()})\n",
    "                    return resp\n",
    "                else:\n",
    "                    resp = random.choice(SELF_VERBS_WITH_NOUN_LOWER).format(**{'noun': noun})\n",
    "                    return resp\n",
    "            else:\n",
    "                resp = random.choice(SELF_VERBS_WITH_ADJECTIVE).format(**{'adjective': adjective}) \n",
    "                return resp\n",
    "        \n",
    "        # comments about self\n",
    "        if response_pronoun == 'I' and verb:\n",
    "            resp = random.choice(COMMENTS_ABOUT_SELF)\n",
    "            return resp\n",
    "\n",
    "        # construct own response\n",
    "        resp = []\n",
    "\n",
    "        if response_pronoun:\n",
    "            resp.append(response_pronoun)\n",
    "\n",
    "            if verb:\n",
    "                verb_word = verb[0]\n",
    "                if verb_word in ('be', 'am', 'is', \"'m\"):  \n",
    "                    if response_pronoun.lower() == 'you':\n",
    "                        resp=(\"What are the symptoms of your sickness?\")\n",
    "                        return \" \".join(resp)\n",
    "                    else:\n",
    "                        resp.append(verb_word)\n",
    "                        return \" \".join(resp)\n",
    "                    \n",
    "            if noun:\n",
    "                if response_pronoun.lower() == \"i\":\n",
    "                    prop_noun = \"am\"\n",
    "                elif response_pronoun.lower() == \"you\":\n",
    "                    prop_noun = \"are\" \n",
    "                elif response_pronoun.lower == (\"he\" or \"she\" or \"it\"):\n",
    "                    prop_noun = \"is\" \n",
    "                elif response_pronoun.lower == (\"they\" or \"we\"):\n",
    "                    prop_noun = \"are\"\n",
    "                else:\n",
    "                    prop_noun = \"is\"\n",
    "                a_or_an = \"an\" if starts_with_vowel(noun) else \"a\"\n",
    "                resp.append(prop_noun + \" \" + a_or_an + \" \" + noun)\n",
    "\n",
    "                # choose a none response if it does not meet any of the crtieria above\n",
    "            else:\n",
    "                resp = random.choice(NONE_RESPONSES)\n",
    "                return resp          \n",
    "\n",
    "            resp.append(random.choice((\"la\", \"bro\", \"lol\", \"bruh\", \"\")))\n",
    "\n",
    "            resp = \" \".join(resp)\n",
    "        \n",
    "        else:\n",
    "            resp = \"yes, let's talk about something else\"\n",
    "        \n",
    "    return resp   "
   ]
  },
  {
   "cell_type": "code",
   "execution_count": null,
   "metadata": {},
   "outputs": [
    {
     "name": "stdout",
     "output_type": "stream",
     "text": [
      "bot :  hey\n",
      "\n",
      "bot :  W h a t   a r e   t h e   s y m p t o m s   o f   y o u r   s i c k n e s s ?\n",
      "\n"
     ]
    }
   ],
   "source": [
    "question = input('say something : ')\n",
    "\n",
    "while question != \"bye bye\":\n",
    "    answer = respond(question)\n",
    "    print ('bot : ', answer)\n",
    "    print ('')\n",
    "    question = input('say something : ')\n",
    "    \n",
    "print (\"Hope you enjoyed the service !\")"
   ]
  },
  {
   "cell_type": "code",
   "execution_count": null,
   "metadata": {},
   "outputs": [],
   "source": []
  }
 ],
 "metadata": {
  "kernelspec": {
   "display_name": "Python 3",
   "language": "python",
   "name": "python3"
  },
  "language_info": {
   "codemirror_mode": {
    "name": "ipython",
    "version": 3
   },
   "file_extension": ".py",
   "mimetype": "text/x-python",
   "name": "python",
   "nbconvert_exporter": "python",
   "pygments_lexer": "ipython3",
   "version": "3.6.4"
  }
 },
 "nbformat": 4,
 "nbformat_minor": 2
}
