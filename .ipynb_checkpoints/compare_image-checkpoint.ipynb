{
 "cells": [
  {
   "cell_type": "code",
   "execution_count": 1,
   "metadata": {},
   "outputs": [],
   "source": [
    "import cv2 \n",
    "import numpy as np\n",
    "import matplotlib.pyplot as plt\n"
   ]
  },
  {
   "cell_type": "code",
   "execution_count": null,
   "metadata": {},
   "outputs": [],
   "source": [
    "# load an image\n",
    "img = cv2.imread('img1.JPG')\n",
    "img2 = cv2.imread('pic2.jpeg')\n",
    "\n",
    "# load an image as a single channel grayscale \n",
    "img_single_channel = cv2.imread('pic1.jpeg', 0)\n",
    "img_single_channel2 = cv2.imread('pic2.jpeg', 0)\n",
    "\n",
    "# print some details about the images \n",
    "print('The shape of img without second arg is: {}'.format(img.shape))\n",
    "print('The shape of img without second arg is: {}'.format(img2.shape))\n",
    "print('The shape of img_single_channel is: {}'.format(img_single_channel.shape))\n",
    "print('The shape of img_single_channel is: {}'.format(img_single_channel2.shape))\n",
    "\n"
   ]
  },
  {
   "cell_type": "code",
   "execution_count": null,
   "metadata": {},
   "outputs": [],
   "source": [
    "# display the image with OpenCV imshow()\n",
    "cv2.imshow('OpenCV imshow()', img)\n",
    "\n",
    "# The OpenCV waitKey() function is a required keyboard binding \n",
    "# function after imwshow()\n",
    "cv2.waitKey(0)\n",
    "\n",
    "# destroy all windows command\n",
    "cv2.destroyAllWindows()"
   ]
  },
  {
   "cell_type": "code",
   "execution_count": null,
   "metadata": {},
   "outputs": [],
   "source": []
  },
  {
   "cell_type": "code",
   "execution_count": null,
   "metadata": {},
   "outputs": [],
   "source": []
  }
 ],
 "metadata": {
  "kernelspec": {
   "display_name": "Python 3",
   "language": "python",
   "name": "python3"
  },
  "language_info": {
   "codemirror_mode": {
    "name": "ipython",
    "version": 3
   },
   "file_extension": ".py",
   "mimetype": "text/x-python",
   "name": "python",
   "nbconvert_exporter": "python",
   "pygments_lexer": "ipython3",
   "version": "3.6.4"
  }
 },
 "nbformat": 4,
 "nbformat_minor": 2
}
