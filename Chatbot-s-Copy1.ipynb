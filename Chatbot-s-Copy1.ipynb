{
 "cells": [
  {
   "cell_type": "code",
   "execution_count": 1,
   "metadata": {},
   "outputs": [
    {
     "name": "stdout",
     "output_type": "stream",
     "text": [
      "Requirement already up-to-date: pip in /Users/Surya/anaconda3/lib/python3.6/site-packages (10.0.1)\n",
      "Requirement already satisfied: textblob in /Users/Surya/anaconda3/lib/python3.6/site-packages (0.15.1)\n",
      "Requirement already satisfied: nltk>=3.1 in /Users/Surya/anaconda3/lib/python3.6/site-packages (from textblob) (3.2.5)\n",
      "Requirement already satisfied: six in /Users/Surya/anaconda3/lib/python3.6/site-packages (from nltk>=3.1->textblob) (1.11.0)\n"
     ]
    }
   ],
   "source": [
    "!pip install --upgrade pip\n",
    "!pip install textblob\n",
    "import nltk\n",
    "from nltk.tokenize import word_tokenize\n",
    "import random\n",
    "import numpy as np\n"
   ]
  },
  {
   "cell_type": "code",
   "execution_count": 2,
   "metadata": {},
   "outputs": [],
   "source": [
    "# Simple Greetings chatbot \n",
    "SYMPTOM1_KEYWORDS = (\"fever\", \"headache\", \"joint pain\", \"muscle pain\", \"skin rashes\", \"Nausea\", \"Vomiting\",\"Bleeding of Nose\",\"gum bleeding\")\n",
    "\n",
    "SYMPTOMS_RESPONSES = [\"the patient is likely to suffer from Dengue virus\", \"\"]\n",
    "\n",
    "def disease(sentence):\n",
    "    \"\"\"If any of the words in the user's input was a greeting, return a greeting response\"\"\"\n",
    "    sentence = word_tokenize(sentence)\n",
    "    for word in sentence:\n",
    "        if word.lower() in SYMPTOMS_KEYWORDS:\n",
    "            return random.choice(SYMPTOMS_RESPONSES)\n",
    "        else:\n",
    "            return 'no comprehendo'"
   ]
  },
  {
   "cell_type": "code",
   "execution_count": 7,
   "metadata": {},
   "outputs": [
    {
     "name": "stdout",
     "output_type": "stream",
     "text": [
      "Hello,  welcome to the hospital. How can I help you?fever\n",
      "['fever']  replaced comma\n",
      "['fever']\n"
     ]
    },
    {
     "ename": "UnboundLocalError",
     "evalue": "local variable 'counter' referenced before assignment",
     "output_type": "error",
     "traceback": [
      "\u001b[0;31m---------------------------------------------------------------------------\u001b[0m",
      "\u001b[0;31mUnboundLocalError\u001b[0m                         Traceback (most recent call last)",
      "\u001b[0;32m<ipython-input-7-42bec20224a6>\u001b[0m in \u001b[0;36m<module>\u001b[0;34m()\u001b[0m\n\u001b[1;32m     16\u001b[0m \u001b[0mmatch\u001b[0m \u001b[0;34m=\u001b[0m \u001b[0;34m[\u001b[0m\u001b[0;34m]\u001b[0m\u001b[0;34m\u001b[0m\u001b[0m\n\u001b[1;32m     17\u001b[0m \u001b[0;34m\u001b[0m\u001b[0m\n\u001b[0;32m---> 18\u001b[0;31m \u001b[0msymptoms\u001b[0m\u001b[0;34m(\u001b[0m\u001b[0mkeywords\u001b[0m\u001b[0;34m)\u001b[0m\u001b[0;34m\u001b[0m\u001b[0m\n\u001b[0m\u001b[1;32m     19\u001b[0m \u001b[0;32mdef\u001b[0m \u001b[0msymptoms\u001b[0m\u001b[0;34m(\u001b[0m\u001b[0mkeywords\u001b[0m\u001b[0;34m)\u001b[0m\u001b[0;34m:\u001b[0m\u001b[0;34m\u001b[0m\u001b[0m\n\u001b[1;32m     20\u001b[0m \u001b[0;34m\u001b[0m\u001b[0m\n",
      "\u001b[0;32m<ipython-input-4-d1d6f1c740e9>\u001b[0m in \u001b[0;36msymptoms\u001b[0;34m(keywords)\u001b[0m\n\u001b[1;32m     24\u001b[0m     \u001b[0;32mfor\u001b[0m \u001b[0melements\u001b[0m \u001b[0;32min\u001b[0m \u001b[0mkeywords\u001b[0m\u001b[0;34m:\u001b[0m\u001b[0;34m\u001b[0m\u001b[0m\n\u001b[1;32m     25\u001b[0m         \u001b[0;32mif\u001b[0m \u001b[0melements\u001b[0m\u001b[0;34m.\u001b[0m\u001b[0mlstrip\u001b[0m\u001b[0;34m(\u001b[0m\u001b[0;34m)\u001b[0m \u001b[0;32min\u001b[0m \u001b[0mSYMPTOM1_KEYWORDS\u001b[0m\u001b[0;34m:\u001b[0m\u001b[0;34m\u001b[0m\u001b[0m\n\u001b[0;32m---> 26\u001b[0;31m             \u001b[0mcounter\u001b[0m \u001b[0;34m+=\u001b[0m\u001b[0;36m1\u001b[0m\u001b[0;34m\u001b[0m\u001b[0m\n\u001b[0m\u001b[1;32m     27\u001b[0m     \u001b[0mmatch\u001b[0m\u001b[0;34m.\u001b[0m\u001b[0mappend\u001b[0m\u001b[0;34m(\u001b[0m\u001b[0mcounter\u001b[0m\u001b[0;34m)\u001b[0m\u001b[0;34m\u001b[0m\u001b[0m\n\u001b[1;32m     28\u001b[0m \u001b[0;34m\u001b[0m\u001b[0m\n",
      "\u001b[0;31mUnboundLocalError\u001b[0m: local variable 'counter' referenced before assignment"
     ]
    }
   ],
   "source": [
    "SYMPTOM1_KEYWORDS = (\"fever\", \"headache\", \"joint\", \"pain\", \"muscle\", \"pain\", \"skin\", \"rashes\", \"Nausea\", \"Vomiting\",\"Bleeding\", \"of\", \"Nose\",\"gum\", \"bleeding\")\n",
    "SYMPTOM2_KEYWORDS = (\"chills\", \"headache\", \"nausea\", \"vomiting\", \"diarrhea\", \"muscle\", \"pain\", \"convulsions\", \"bloody\", \"stools\", \"anemia\", \"fever\", \"abdominal\", \"pain\")\n",
    "SYMPTOM3_KEYWORDS = (\"fever\", \"rash\", \"joint\", \"pain\", \"conjuctivitis\", \"muscle\", \"pain\", \"eye\", \"pain\", \"vomiting\", \"red\", \"eyes\")\n",
    "SYMPTOM4_KEYWORDS = (\"sore\", \"throat\", \"runny\", \"nose\", \"cough\", \"fever\", \"body\", \"ache\", \"poor\", \"appetite\", \"abdominal\", \"pain\", \"diarrhea\", \"body\", \"ache\", \"vomiting\")\n",
    "SYMPTOM5_KEYWORDS = (\"poor\", \"appetite\", \"headache\", \"body\", \"ache\", \"abdominal\", \"pain\", \"lethargy\", \"diarrhea\")\n",
    "SYMPTOMS_RESPONSES = [\"the patient is likely to suffer from Dengue virus\", \"the patient is likely suffering from malaria\", \"this patient is likely suffering from zika\", \"this patient is liekly suffering from viral fever\", \"this patient is likely suffering from typhoid\"]\n",
    "        \n",
    "question = input('Hello,  welcome to the hospital. How can I help you?')\n",
    "question = question.replace(',', ' ')\n",
    "keywords = question.split(' ')\n",
    "counter = 0\n",
    "counter1 = 0\n",
    "counter2 = 0\n",
    "counter3 = 0\n",
    "counter4 = 0\n",
    "match = []\n",
    "\n",
    "symptoms(keywords)\n",
    "def symptoms(keywords):\n",
    "\n",
    "    print(keywords,\" replaced comma\")\n",
    "\n",
    "    print (keywords)\n",
    "    \n",
    "    for elements in keywords:\n",
    "        if elements.lstrip() in SYMPTOM1_KEYWORDS:\n",
    "            counter +=1\n",
    "    match.append(counter)\n",
    "\n",
    "    for elements in keywords:\n",
    "        if elements.lstrip() in SYMPTOM2_KEYWORDS:\n",
    "            counter1 +=1\n",
    "    match.append(counter1)\n",
    "\n",
    "    for elements in keywords:\n",
    "        if elements.lstrip() in SYMPTOM3_KEYWORDS:\n",
    "            counter2 +=1\n",
    "    match.append(counter2)\n",
    "\n",
    "    for elements in keywords:\n",
    "        if elements.lstrip() in SYMPTOM4_KEYWORDS:\n",
    "            counter3 +=1\n",
    "    match.append(counter3)\n",
    "\n",
    "    for elements in keywords:\n",
    "        if elements.lstrip() in SYMPTOM5_KEYWORDS:\n",
    "            counter4 +=1\n",
    "    match.append(counter4)\n",
    "\n",
    "    values = np.array(match)\n",
    "    searchval = max(match)\n",
    "    i = np.where(values == searchval)[0]\n",
    "\n",
    "    print(match)\n",
    "    print(max(match), 'max')\n",
    "    print(match.index(max(match)), 'index max') \n",
    "\n",
    "    if (len(i)>1):\n",
    "        question = input('Do you have anymore symptoms?')\n",
    "        if (question =='yes'):\n",
    "            question = input(\"what are the other symptoms?\")\n",
    "            question = question.replace(',', ' ')\n",
    "            keywords += question.split(' ')\n",
    "            symptoms(keywords)\n",
    "        \n",
    "    for elements in i:\n",
    "        print(SYMPTOMS_RESPONSES[elements])"
   ]
  },
  {
   "cell_type": "code",
   "execution_count": 18,
   "metadata": {},
   "outputs": [
    {
     "name": "stdout",
     "output_type": "stream",
     "text": [
      "[ 0  3 10]\n"
     ]
    }
   ],
   "source": [
    "import numpy as np\n",
    "values = np.array([1,2,3,1,2,4,5,6,3,2,1])\n",
    "searchval = 1\n",
    "ii = np.where(values == searchval)[0]\n",
    "print (ii)"
   ]
  },
  {
   "cell_type": "code",
   "execution_count": null,
   "metadata": {},
   "outputs": [],
   "source": []
  }
 ],
 "metadata": {
  "kernelspec": {
   "display_name": "Python 3",
   "language": "python",
   "name": "python3"
  },
  "language_info": {
   "codemirror_mode": {
    "name": "ipython",
    "version": 3
   },
   "file_extension": ".py",
   "mimetype": "text/x-python",
   "name": "python",
   "nbconvert_exporter": "python",
   "pygments_lexer": "ipython3",
   "version": "3.6.4"
  }
 },
 "nbformat": 4,
 "nbformat_minor": 2
}
