{
 "cells": [
  {
   "cell_type": "code",
   "execution_count": 3,
   "metadata": {},
   "outputs": [
    {
     "name": "stdout",
     "output_type": "stream",
     "text": [
      "Requirement already up-to-date: pip in /anaconda3/lib/python3.6/site-packages (10.0.1)\n",
      "Requirement already satisfied: textblob in /anaconda3/lib/python3.6/site-packages (0.15.1)\n",
      "Requirement already satisfied: nltk>=3.1 in /anaconda3/lib/python3.6/site-packages (from textblob) (3.2.5)\n",
      "Requirement already satisfied: six in /anaconda3/lib/python3.6/site-packages (from nltk>=3.1->textblob) (1.11.0)\n"
     ]
    }
   ],
   "source": [
    "!pip install --upgrade pip\n",
    "!pip install textblob\n",
    "import nltk\n",
    "from nltk.tokenize import word_tokenize\n",
    "import random"
   ]
  },
  {
   "cell_type": "code",
   "execution_count": 2,
   "metadata": {},
   "outputs": [],
   "source": [
    "# Simple Greetings chatbot \n",
    "SYMPTOM1_KEYWORDS = (\"fever\", \"headache\", \"joint pain\", \"muscle pain\", \"skin rashes\", \"Nausea\", \"Vomiting\",\"Bleeding of Nose\",\"gum bleeding\")\n",
    "\n",
    "SYMPTOMS_RESPONSES = [\"the patient is likely to suffer from Dengue virus\", \"\"]\n",
    "\n",
    "def disease(sentence):\n",
    "    \"\"\"If any of the words in the user's input was a greeting, return a greeting response\"\"\"\n",
    "    sentence = word_tokenize(sentence)\n",
    "    for word in sentence:\n",
    "        if word.lower() in SYMPTOMS_KEYWORDS:\n",
    "            return random.choice(SYMPTOMS_RESPONSES)\n",
    "        else:\n",
    "            return 'no comprehendo'"
   ]
  },
  {
   "cell_type": "code",
   "execution_count": 8,
   "metadata": {},
   "outputs": [
    {
     "name": "stdout",
     "output_type": "stream",
     "text": [
      "Hello,  welcome to the hospital. How can I help you?joint pain, eye pain, fever,headache, diarrhea, nausea,chills,anemia\n",
      "['joint', 'pain', '', 'eye', 'pain', '', 'fever', 'headache', '', 'diarrhea', '', 'nausea', 'chills', 'anemia']  replaced comma\n",
      "['joint', 'pain', '', 'eye', 'pain', '', 'fever', 'headache', '', 'diarrhea', '', 'nausea', 'chills', 'anemia']\n",
      "[5, 8, 0, 0, 0]\n",
      "8\n",
      "1\n",
      "the patient is likely suffering from malaria\n"
     ]
    }
   ],
   "source": [
    "SYMPTOM1_KEYWORDS = (\"fever\", \"headache\", \"joint\", \"pain\", \"muscle\", \"pain\", \"skin\", \"rashes\", \"Nausea\", \"Vomiting\",\"Bleeding\", \"of\", \"Nose\",\"gum\", \"bleeding\")\n",
    "SYMPTOM2_KEYWORDS = (\"chills\", \"headache\", \"nausea\", \"vomiting\", \"diarrhea\", \"muscle\", \"pain\", \"convulsions\", \"bloody\", \"stools\", \"anemia\", \"fever\", \"abdominal\", \"pain\")\n",
    "SYMPTOM3_KEYWORDS = (\"fever\", \"rash\", \"joint\", \"pain\", \"conjuctivitis\", \"muscle\", \"pain\", \"eye\", \"pain\", \"vomiting\", \"red\", \"eyes\")\n",
    "SYMPTOM4_KEYWORDS = (\"sore\", \"throat\", \"runny\", \"nose\", \"cough\", \"fever\", \"body\", \"ache\", \"poor\", \"appetite\", \"abdominal\", \"pain\", \"diarrhea\", \"body\", \"ache\", \"vomiting\")\n",
    "SYMPTOM5_KEYWORDS = (\"poor\", \"appetite\", \"headache\", \"body\", \"ache\", \"abdominal\", \"pain\", \"lethargy\", \"diarrhea\")\n",
    "\n",
    "SYMPTOMS_RESPONSES = [\"the patient is likely to suffer from Dengue virus\", \"the patient is likely suffering from malaria\", \"this patient is likely suffering from zika\", \"this patient is liekly suffering from viral fever\", \"this patient is likely suffering from typhoid\"]\n",
    "\n",
    "\n",
    "\n",
    "def greeting(sentence):\n",
    "    \"\"\"If any of the words in the user's input was a greeting, return a greeting response\"\"\"\n",
    "    sentence = word_tokenize(sentence)\n",
    "    for word in sentence:\n",
    "        if word.lower() in GREETING_KEYWORDS:\n",
    "            return random.choice(GREETING_RESPONSES)\n",
    "        else:\n",
    "            return 'no comprehendo'\n",
    "        \n",
    "question = input('Hello,  welcome to the hospital. How can I help you?')\n",
    "question = question.replace(',', ' ')\n",
    "keywords = question.split(' ')\n",
    "\n",
    "\n",
    "print(keywords,\" replaced comma\")\n",
    "\n",
    "print (keywords)\n",
    "counter = 0\n",
    "counter1 = 0\n",
    "counter2 = 0\n",
    "counter3 = 0\n",
    "counter4 = 0\n",
    "\n",
    "\n",
    "match = []\n",
    "for elements in keywords:\n",
    "    if elements.lstrip() in SYMPTOM1_KEYWORDS:\n",
    "        counter +=1\n",
    "match.append(counter)\n",
    "    \n",
    "for elements in keywords:\n",
    "    if elements.lstrip() in SYMPTOM2_KEYWORDS:\n",
    "        counter1 +=1\n",
    "match.append(counter1)\n",
    "\n",
    "for elements in keywords:\n",
    "    if elements.lstrip() in SYMPTOM3_KEYWORDS:\n",
    "        counter1 +=1\n",
    "match.append(counter2)\n",
    "\n",
    "for elements in keywords:\n",
    "    if elements.lstrip() in SYMPTOM4_KEYWORDS:\n",
    "        counter1 +=1\n",
    "match.append(counter3)\n",
    "\n",
    "for elements in keywords:\n",
    "    if elements.lstrip() in SYMPTOM5_KEYWORDS:\n",
    "        counter1 +=1\n",
    "match.append(counter4)\n",
    "\n",
    "print(match)\n",
    "print(max(match))\n",
    "print(match.index(max(match)))\n",
    "print(SYMPTOMS_RESPONSES[match.index(max(match))])"
   ]
  },
  {
   "cell_type": "code",
   "execution_count": null,
   "metadata": {},
   "outputs": [],
   "source": []
  },
  {
   "cell_type": "code",
   "execution_count": null,
   "metadata": {},
   "outputs": [],
   "source": []
  }
 ],
 "metadata": {
  "kernelspec": {
   "display_name": "Python 3",
   "language": "python",
   "name": "python3"
  },
  "language_info": {
   "codemirror_mode": {
    "name": "ipython",
    "version": 3
   },
   "file_extension": ".py",
   "mimetype": "text/x-python",
   "name": "python",
   "nbconvert_exporter": "python",
   "pygments_lexer": "ipython3",
   "version": "3.6.4"
  }
 },
 "nbformat": 4,
 "nbformat_minor": 2
}
